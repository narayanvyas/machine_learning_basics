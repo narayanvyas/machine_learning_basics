{
  "nbformat": 4,
  "nbformat_minor": 0,
  "metadata": {
    "colab": {
      "provenance": [],
      "authorship_tag": "ABX9TyPWIT3ZTqNzEiE1vD+J7Ysw",
      "include_colab_link": true
    },
    "kernelspec": {
      "name": "python3",
      "display_name": "Python 3"
    },
    "language_info": {
      "name": "python"
    }
  },
  "cells": [
    {
      "cell_type": "markdown",
      "metadata": {
        "id": "view-in-github",
        "colab_type": "text"
      },
      "source": [
        "<a href=\"https://colab.research.google.com/github/narayanvyas/machine_learning_basics/blob/master/NB_English_Text_Classification.ipynb\" target=\"_parent\"><img src=\"https://colab.research.google.com/assets/colab-badge.svg\" alt=\"Open In Colab\"/></a>"
      ]
    },
    {
      "cell_type": "code",
      "execution_count": 1,
      "metadata": {
        "colab": {
          "base_uri": "https://localhost:8080/"
        },
        "id": "ZcT2tCCj16I5",
        "outputId": "f241de0e-3c8e-42a7-9830-7a7b02192700"
      },
      "outputs": [
        {
          "output_type": "stream",
          "name": "stdout",
          "text": [
            "Prediction for the new text: Negative\n"
          ]
        }
      ],
      "source": [
        "from sklearn.feature_extraction.text import CountVectorizer\n",
        "from sklearn.naive_bayes import MultinomialNB\n",
        "from sklearn.metrics import classification_report\n",
        "\n",
        "# Sample data: 10 texts with labels\n",
        "texts = [\"I love programming\", \"I hate bugs\", \"Coding is fun\",\n",
        "         \"I enjoy learning new languages\", \"Debugging can be frustrating\",\n",
        "         \"I am happy when my code works\", \"Syntax errors are annoying\",\n",
        "         \"It’s exciting to solve problems\", \"I dislike error messages\",\n",
        "         \"Creating new projects is rewarding\"]\n",
        "labels = [\"Positive\", \"Negative\", \"Positive\", \"Positive\", \"Negative\",\n",
        "          \"Positive\", \"Negative\", \"Positive\", \"Negative\", \"Positive\"]\n",
        "\n",
        "# Text Vectorization\n",
        "vectorizer = CountVectorizer(stop_words='english')\n",
        "X = vectorizer.fit_transform(texts)\n",
        "\n",
        "# Building and training the Naïve Bayes Model\n",
        "nb_classifier = MultinomialNB()\n",
        "nb_classifier.fit(X, labels)\n",
        "\n",
        "# Predicting sentiment of a new text\n",
        "new_text = [\"I hate drugs\"]\n",
        "new_text_vectorized = vectorizer.transform(new_text)\n",
        "prediction = nb_classifier.predict(new_text_vectorized)\n",
        "\n",
        "print(f\"Prediction for the new text: {prediction[0]}\")"
      ]
    }
  ]
}